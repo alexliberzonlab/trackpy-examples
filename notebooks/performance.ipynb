{
 "cells": [
  {
   "cell_type": "markdown",
   "metadata": {},
   "source": [
    "# Making trackpy fast(er)\n",
    "\n",
    "This notebook explains specific features built into `trackpy` to boost performance, and it also provides some general suggestions on how to make particle tracking run faster.\n",
    "\n",
    "First, set up matplotlib..."
   ]
  },
  {
   "cell_type": "code",
   "execution_count": 1,
   "metadata": {},
   "outputs": [],
   "source": [
    "%matplotlib inline\n",
    "import matplotlib\n",
    "from matplotlib.pyplot import imshow"
   ]
  },
  {
   "cell_type": "markdown",
   "metadata": {},
   "source": [
    "Let's check the `trackpy` version. If it's not 0.3.0 or greater, the following *may* not work."
   ]
  },
  {
   "cell_type": "code",
   "execution_count": 2,
   "metadata": {},
   "outputs": [
    {
     "data": {
      "text/plain": [
       "'0.3.2+175.g22079e8'"
      ]
     },
     "execution_count": 2,
     "metadata": {},
     "output_type": "execute_result"
    }
   ],
   "source": [
    "import trackpy\n",
    "trackpy.__version__"
   ]
  },
  {
   "cell_type": "markdown",
   "metadata": {},
   "source": [
    "## General advice\n",
    "\n",
    "### Subnetworks\n",
    "\n",
    "As we'll see in the examples below, the need to resolve \"subnetworks\" — in which multiple neighboring particles in one frame could correspond to multiple particles in the next — can drastically slow down tracking. There is a seprate tutorial on dealing with (excessive) subnetworks. In the text below, we'll look at some methods for finding out just how much a of a problem subnetworks are in your application, so that you can weigh the various remedies against a potential loss of accuracy.\n",
    "\n",
    "### Feature-finding: The best advice\n",
    "\n",
    "Judicious use of the `minmass` and/or `threshold` parameters during feature-finding, as described in the \"walkthrough\" tutorial notebook, can considerably speed up feature-finding, linking, and analysis of tracks. The best way to speed up a computation is usually to avoid doing it at all.\n",
    "\n",
    "### Feature-finding: The details\n",
    "\n",
    "The `locate()` and `batch()` functions for feature-finding can use either of two engines for their work, as specified by the optional `engine` parameter:\n",
    "\n",
    "- The `numba` engine is reasonably fast. It is the default when numba is installed.\n",
    "- The `python` engine is currently slightly more accurate, but considerably slower.\n",
    "\n",
    "In addition, both engines do some extra work that you might not always need:\n",
    "\n",
    "- They iteratively try to refine the position of the feature centroid, for the best possible subpixel accuracy. This can be turned off with the parameter `max_iterations=0`.\n",
    "- They compute extra data about the feature, such as its eccentricity. This can be turned off with `characterize=False`.\n",
    "\n",
    "**Note:** Before sacrificing accuracy for performance, it's best to know objectively how much performance you are gaining. Read on to the Advanced Topics section for information about how to time feature-finding."
   ]
  },
  {
   "cell_type": "markdown",
   "metadata": {},
   "source": [
    "## Using numba for acceleration\n",
    "\n",
    "Two key algorithms in `trackpy` can be sped up by the [`numba`](http://numba.pydata.org) array-based just-in-time compiler for Python:\n",
    "\n",
    "- Iteratively refining the centroids of features, for better subpixel resolution.\n",
    "- Resolving subnetworks, as part of the linking process.\n",
    "\n",
    "The source code actually contains distinct Python and numba versions of each — and not one numba version but several, each optimized for a different use, and for 2D and 3D images. The default setting is to use the appropriate numba version when possible, but to fall back on the general-purpose Python version if numba is unavailable. You can also control these choices manually, using the `engine` argument to `locate()`, and the `link_strategy` argument when linking.\n",
    "\n",
    "If you don't have `numba`, we recommend using the Anaconda or Canopy scientific Python distributions, which include `numba` and many other useful packages. Note that it can be difficult to install outside of these distributions.\n",
    "\n",
    "### Theoretical performance diagnostics: `performance_report()`\n",
    "\n",
    "`trackpy` provides an easy way to check whether your system is configured for the best performance. Currently, it reports only whether `numba` is working.\n",
    "\n",
    "To install numba, use `pip`:\n",
    "\n",
    "```\n",
    "pip install numba\n",
    "```"
   ]
  },
  {
   "cell_type": "code",
   "execution_count": 3,
   "metadata": {},
   "outputs": [
    {
     "name": "stdout",
     "output_type": "stream",
     "text": [
      "Yes, but could it be faster?\n",
      "FAST: numba is available and enabled (fast subnets and feature-finding).\n"
     ]
    }
   ],
   "source": [
    "import trackpy.diag\n",
    "trackpy.diag.performance_report()"
   ]
  },
  {
   "cell_type": "markdown",
   "metadata": {},
   "source": [
    "## Advanced topics"
   ]
  },
  {
   "cell_type": "markdown",
   "metadata": {},
   "source": [
    "### Empirical performance diagnostics: Timing and profiling\n",
    "\n",
    "What follows is a crash course in how to evaluate the performance of tracking. The general suggestions given above are good starting points, but they are just that — general suggestions. For your *specific* application, you need *specific* data about how long the computation takes, and how the computer is spending its time. This information may help you make your own adjustments to your tracking method, or it may help you when asking the `trackpy` developers for assistance (chances are we'll be happy to help!).\n",
    "\n",
    "You will use these techniques with your own data, but let's use the data from the \"walkthrough\" tutorial.\n",
    "\n",
    "### Setup"
   ]
  },
  {
   "cell_type": "code",
   "execution_count": 4,
   "metadata": {},
   "outputs": [],
   "source": [
    "import trackpy as tp\n",
    "import pims"
   ]
  },
  {
   "cell_type": "code",
   "execution_count": 5,
   "metadata": {},
   "outputs": [],
   "source": [
    "frames = pims.open('../sample_data/bulk_water/*.png', as_grey=True)"
   ]
  },
  {
   "cell_type": "markdown",
   "metadata": {},
   "source": [
    "The speed at which we can read images from disk is not something we can hope to improve much, so let's get that out of the way before we do our tests. Also, we don't need to use all the frames for this example (though you're welcome to)."
   ]
  },
  {
   "cell_type": "code",
   "execution_count": 6,
   "metadata": {},
   "outputs": [],
   "source": [
    "# This gets the image data out of the pims ImageSequence object, and into a good old list in memory.\n",
    "frames_preload = list(frames[:50])"
   ]
  },
  {
   "cell_type": "markdown",
   "metadata": {},
   "source": [
    "Just so we don't forget what these images look like:"
   ]
  },
  {
   "cell_type": "code",
   "execution_count": 7,
   "metadata": {},
   "outputs": [
    {
     "data": {
      "image/png": "[encoded data removed]",
      "text/plain": [
       "<matplotlib.figure.Figure at 0x10c032400>"
      ]
     },
     "metadata": {},
     "output_type": "display_data"
    }
   ],
   "source": [
    "imshow(frames_preload[0], cmap=matplotlib.cm.gray);"
   ]
  },
  {
   "cell_type": "markdown",
   "metadata": {},
   "source": [
    "Before we identify features, we need to give `trackpy` a chance to \"warm up\" and compile certain functions, if it hasn't done so already. So we'll find features in just 2 frames: "
   ]
  },
  {
   "cell_type": "code",
   "execution_count": 8,
   "metadata": {},
   "outputs": [
    {
     "name": "stdout",
     "output_type": "stream",
     "text": [
      "Frame 2: 491 features\n"
     ]
    }
   ],
   "source": [
    "f2 = tp.batch(frames_preload[:3], 11, minmass=100, invert=True)\n",
    "_ = tp.batch(frames_preload[:3], 11, minmass=100, invert=True, characterize=False)"
   ]
  },
  {
   "cell_type": "markdown",
   "metadata": {},
   "source": [
    "### Timing\n",
    "\n",
    "Let's find out — precisely — how long it takes to find features in a single frame. You'll notice that the following cell begins with the line `%%timeit`. This is an example of a *cell magic*, which gives IPython special instructions about how to run the rest of the cell."
   ]
  },
  {
   "cell_type": "code",
   "execution_count": 9,
   "metadata": {},
   "outputs": [
    {
     "name": "stdout",
     "output_type": "stream",
     "text": [
      "Frame 0: 489 features\n",
      "50.3 ms ± 5.66 ms per loop (mean ± std. dev. of 7 runs, 10 loops each)\n"
     ]
    }
   ],
   "source": [
    "%%timeit\n",
    "f1 = tp.batch(frames_preload[:1], 11, minmass=0.03, invert=True)"
   ]
  },
  {
   "cell_type": "markdown",
   "metadata": {},
   "source": [
    "`%%timeit` runs the same code multiple times and returns a somewhat accurate measurement of execution time. We can use it to see how much faster we can find features in this image when we turn off centroid refinement and feature characterization:"
   ]
  },
  {
   "cell_type": "code",
   "execution_count": 10,
   "metadata": {},
   "outputs": [
    {
     "name": "stdout",
     "output_type": "stream",
     "text": [
      "Frame 0: 490 features\n",
      "44 ms ± 4.29 ms per loop (mean ± std. dev. of 7 runs, 10 loops each)\n"
     ]
    }
   ],
   "source": [
    "%%timeit\n",
    "f1 = tp.batch(frames_preload[:1], 11, minmass=0.03, invert=True, \n",
    "              max_iterations=1, characterize=False)"
   ]
  },
  {
   "cell_type": "markdown",
   "metadata": {},
   "source": [
    "One thing to note is that the ratio of features to pixels is rather low in this image. If you were finding features in a dense packing of particles, the timing difference could be much more significant."
   ]
  },
  {
   "cell_type": "markdown",
   "metadata": {},
   "source": [
    "### Profiling\n",
    "\n",
    "Next, we'll try to get a sense of what's taking so long. The `%%prun` cell magic instructs IPython to run the rest of the cell's code using a *profiler*."
   ]
  },
  {
   "cell_type": "code",
   "execution_count": 11,
   "metadata": {},
   "outputs": [
    {
     "name": "stdout",
     "output_type": "stream",
     "text": [
      "Frame 49: 506 features\n",
      " "
     ]
    }
   ],
   "source": [
    "%prun f = tp.batch(frames_preload, 11, minmass=0.03, invert=True)"
   ]
  },
  {
   "cell_type": "markdown",
   "metadata": {},
   "source": [
    "When execution is complete, a pager will pop up in the lower portion of the notebook window. This is the profiler output. We reproduce a portion of it here. Your results will depend on your data and the computer you are using."
   ]
  },
  {
   "cell_type": "markdown",
   "metadata": {},
   "source": [
    "```\n",
    "         140307 function calls (139593 primitive calls) in 3.350 seconds\n",
    "\n",
    "   Ordered by: internal time\n",
    "\n",
    "   ncalls  tottime  percall  cumtime  percall filename:lineno(function)\n",
    "       50    1.279    0.026    1.279    0.026 {built-in method scipy.ndimage._nd_image.min_or_max_filter}\n",
    "       50    0.658    0.013    0.658    0.013 {built-in method scipy.ndimage._nd_image.binary_erosion}\n",
    "      100    0.260    0.003    0.260    0.003 {built-in method scipy.ndimage._nd_image.correlate1d}\n",
    "      100    0.135    0.001    0.135    0.001 {built-in method scipy.ndimage._nd_image.uniform_filter1d}\n",
    "      100    0.105    0.001    0.105    0.001 {method 'nonzero' of 'numpy.ndarray' objects}\n",
    "      100    0.093    0.001    0.093    0.001 {built-in method numpy.core.multiarray.where}\n",
    "       50    0.076    0.002    0.133    0.003 preprocessing.py:224(scale_to_gamut)\n",
    "       50    0.071    0.001    3.264    0.065 feature.py:398(locate)\n",
    "     3945    0.059    0.000    0.059    0.000 {method 'reduce' of 'numpy.ufunc' objects}\n",
    "     3546    0.056    0.000    0.056    0.000 {built-in method numpy.core.multiarray.array}\n",
    "       50    0.046    0.001    0.564    0.011 preprocessing.py:14(bandpass)\n",
    "       50    0.046    0.001    0.748    0.015 uncertainty.py:12(measure_noise)\n",
    "       50    0.045    0.001    0.045    0.001 feature_numba.py:77(_numba_refine_2D_c)\n",
    "       50    0.040    0.001    0.040    0.001 {method 'clip' of 'numpy.ndarray' objects}\n",
    "       50    0.036    0.001    0.167    0.003 feature.py:156(refine)\n",
    "      100    0.032    0.000    0.032    0.000 {method 'query_pairs' of 'scipy.spatial.ckdtree.cKDTree' objects}\n",
    "       50    0.028    0.001    1.511    0.030 feature.py:89(local_maxima)\n",
    "       50    0.018    0.000    0.149    0.003 feature.py:26(percentile_threshold)\n",
    "      300    0.017    0.000    0.017    0.000 {method 'astype' of 'numpy.ndarray' objects}\n",
    "       52    0.016    0.000    0.016    0.000 {method 'copy' of 'numpy.ndarray' objects}\n",
    "      900    0.016    0.000    0.016    0.000 {method 'acquire' of '_thread.lock' objects}\n",
    "       50    0.016    0.000    0.016    0.000 {method 'partition' of 'numpy.ndarray' objects}\n",
    "```"
   ]
  },
  {
   "cell_type": "markdown",
   "metadata": {},
   "source": [
    "This is a record of how the computer spent its time while finding features. The various numbers are explained in the [documentation for the Python `profiler` module](http://docs.python.org/2/library/profile.html#instant-user-s-manual). You shouldn't try to understand every line, but you can get some idea of which functions are called for each frame (multiples of 50), and which are called for each particle. Note that `{functions in braces}` are written in C, not Python, are not part of `trackpy`, and tend to be less user-serviceable. (They are typically `scipy` or `numpy` functions.)\n",
    "\n",
    "Now let's look at the linking step. Once again, we'll prime `trackpy`, to avoid distorting our results with one-time setup code:"
   ]
  },
  {
   "cell_type": "code",
   "execution_count": 12,
   "metadata": {},
   "outputs": [],
   "source": [
    "# Use a large search_range, to be sure that numba subnet code is compiled and used.\n",
    "t1 = tp.link_df(f2, 10, memory=3)"
   ]
  },
  {
   "cell_type": "code",
   "execution_count": 13,
   "metadata": {},
   "outputs": [
    {
     "name": "stdout",
     "output_type": "stream",
     "text": [
      " "
     ]
    }
   ],
   "source": [
    "%%prun\n",
    "t = tp.link_df(f, 5, memory=3)"
   ]
  },
  {
   "cell_type": "markdown",
   "metadata": {},
   "source": [
    "```\n",
    "         709727 function calls (707285 primitive calls) in 1.253 seconds\n",
    "\n",
    "   Ordered by: internal time\n",
    "\n",
    "   ncalls  tottime  percall  cumtime  percall filename:lineno(function)\n",
    "       51    0.185    0.004    0.833    0.016 linking.py:967(link)\n",
    "24805/24705    0.118    0.000    0.119    0.000 {built-in method numpy.core.multiarray.array}\n",
    "       49    0.059    0.001    0.164    0.003 linking.py:1223(assign_candidates)\n",
    "       49    0.057    0.001    0.094    0.002 linking.py:1110(_assign_links)\n",
    "       50    0.039    0.001    0.208    0.004 linking.py:756(_build_level)\n",
    "    46056    0.033    0.000    0.039    0.000 {method 'sort' of 'list' objects}\n",
    "    22233    0.030    0.000    0.083    0.000 linking.py:378(__init__)\n",
    "      890    0.030    0.000    0.030    0.000 {method 'acquire' of '_thread.lock' objects}\n",
    "       98    0.026    0.000    0.116    0.001 linking.py:36(rebuild)\n",
    "    22233    0.024    0.000    0.024    0.000 linking.py:310(__init__)\n",
    "       49    0.023    0.000    0.027    0.001 {method 'query' of 'scipy.spatial.ckdtree.cKDTree' objects}\n",
    "     1116    0.019    0.000    0.019    0.000 {method 'reduce' of 'numpy.ufunc' objects}\n",
    "      452    0.019    0.000    0.019    0.000 {built-in method posix.urandom}\n",
    "    46056    0.018    0.000    0.018    0.000 linking.py:51(<lambda>)\n",
    "      101    0.018    0.000    0.019    0.000 {method 'get_indexer' of 'pandas._libs.index.IndexEngine' objects}\n",
    "      402    0.017    0.000    0.038    0.000 iostream.py:180(schedule)\n",
    "    45997    0.016    0.000    0.016    0.000 linking.py:355(track)\n",
    "77120/74779    0.014    0.000    0.019    0.000 {built-in method builtins.len}\n",
    "    33323    0.014    0.000    0.020    0.000 {built-in method builtins.isinstance}\n",
    "    22233    0.012    0.000    0.019    0.000 linking.py:206(add_point)\n",
    "    94924    0.012    0.000    0.012    0.000 {method 'append' of 'list' objects}\n",
    "      121    0.010    0.000    0.018    0.000 linking.py:1419(numba_link)\n",
    "```"
   ]
  },
  {
   "cell_type": "markdown",
   "metadata": {},
   "source": [
    "This goes much faster than feature identification, though to be fair, we have far, far more pixels than particles. Note the calls to `numba_link` at the end of the report; this is the subnet resolution code referred to above. If you require a large `search_range`, these computations can dramatically slow down linking. As it is, they are under control."
   ]
  },
  {
   "cell_type": "markdown",
   "metadata": {},
   "source": [
    "### `pyfftw` and the frequency-domain bandpass\n",
    "\n",
    "`trackpy` performs bandpass filtering to prepare an image for feature-finding. As of version 0.3, this is done with convolution; formerly, it was done using fast Fourier transforms (FFT). The two methods yield very close results, but the convolution method is roughly twice as fast. \n",
    "\n",
    "Because the two methods are *not* mathematically identical, `trackpy` still includes the FFT method in case you would like to use it (or just compare its results). This method is not available as part of `locate()`; you must perform the bandpass separately and then call `locate()` with `preprocess=False`. You can perform the FFT bandpass with one of two functions:\n",
    "\n",
    "- `trackpy.preprocessing.legacy_bandpass()` uses the FFT functions built into numpy.\n",
    "- `trackpy.preprocessing.legacy_bandpass_fftw()` uses the FFTW library, an exceptionally fast implementation of FFT. `pyfftw` is the module that lets Python programs use it. Like numba it is optional, but it can speed up the bandpass operation by a factor of ~3. (The default method now in `trackpy` is faster still.)\n",
    "\n",
    "You should be able to install FFTW from your Linux package manager, or on the Mac using [Homebrew](http://brew.sh) (with the command `brew install fftw`). Once you've done that, `pyfftw` itself should install with `pip install pyfftw`"
   ]
  },
  {
   "cell_type": "markdown",
   "metadata": {},
   "source": [
    "### Neighbor-finding strategy: KDTree\n",
    "\n",
    "An important operation in tracking (i.e. linking) is finding all the particles that are close to a certain point in space. `trackpy` has two ways of doing this:\n",
    "\n",
    "- A KDTree, which only handles more standard cases (e.g. Euclidean geometries) and is written in C. (This is the default.)\n",
    "- A hash table written in pure Python. It is very extensible but tends to be slower.\n",
    "\n",
    "The method is set by the `neighbor_strategy` argument to the various linking functions, which again defaults to KDTree. The KDTree is a standard part of `scipy`; if you can run `trackpy` at all, it is enabled."
   ]
  },
  {
   "cell_type": "markdown",
   "metadata": {},
   "source": [
    "--------\n",
    "\n",
    "Well, I hope you've enjoyed this brief tour of `trackpy` performance. Just remember that if you come up with new ways to improve performance, the `trackpy` community will be interested!"
   ]
  }
 ],
 "metadata": {
  "kernelspec": {
   "display_name": "Python 3",
   "language": "python",
   "name": "python3"
  },
  "language_info": {
   "codemirror_mode": {
    "name": "ipython",
    "version": 3
   },
   "file_extension": ".py",
   "mimetype": "text/x-python",
   "name": "python",
   "nbconvert_exporter": "python",
   "pygments_lexer": "ipython3",
   "version": "3.6.3"
  }
 },
 "nbformat": 4,
 "nbformat_minor": 1
}
