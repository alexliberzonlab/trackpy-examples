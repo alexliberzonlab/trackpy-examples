{
 "cells": [
  {
   "cell_type": "markdown",
   "metadata": {},
   "source": [
    "# Streaming: Processing Unlimited Frames On-Disk"
   ]
  },
  {
   "cell_type": "markdown",
   "metadata": {},
   "source": [
    "A key feature of trackpy is the ability to process an unlimited number of frames.\n",
    "\n",
    "For feature-finding, this is straightforward: a frame is loaded, features are located, the locations are saved the disk, and the memory is cleared for the next frame. For linking, the problem is more challenging, but trackpy handles all this complexity for you, using as little memory as possible throughout.\n",
    "\n",
    "When data sets become large, beginning-friendly file formats like CSV or Excel become impractical. We recommend using the [HDF5 file format](https://support.hdfgroup.org/HDF5/), which is trackpy can read and write out of the box. (HDF5 is [widely used](http://en.wikipedia.org/wiki/Hierarchical_Data_Format); you can be sure it will be around for many, many years to come.)\n",
    "\n",
    "If you have some other format in mind, see the end of this tutorial, where we explain how to extend trackpy's interface to support other formats.\n",
    "\n",
    "## Install PyTables\n",
    "\n",
    "You need pytables, which you can easily install using conda. (Type this command into a Terminal or Command Prompt.)\n",
    "\n",
    "    conda install pytables\n",
    "    \n",
    "## Locate Features, Streaming Results into an HDF5 File"
   ]
  },
  {
   "cell_type": "code",
   "execution_count": 1,
   "metadata": {},
   "outputs": [],
   "source": [
    "import trackpy as tp\n",
    "import pims"
   ]
  },
  {
   "cell_type": "code",
   "execution_count": 2,
   "metadata": {},
   "outputs": [],
   "source": [
    "def gray(image):\n",
    "    return image[:, :, 0]\n",
    "\n",
    "images = pims.ImageSequence('../sample_data/bulk_water/*.png', process_func=gray)\n",
    "images = images[:10]  # We'll take just the first 10 frames for demo purposes."
   ]
  },
  {
   "cell_type": "code",
   "execution_count": 3,
   "metadata": {},
   "outputs": [],
   "source": [
    "# For this demo, we'll first remove the file if it already exists.\n",
    "!rm -f data.h5"
   ]
  },
  {
   "cell_type": "markdown",
   "metadata": {},
   "source": [
    "We can use `locate` inside a loop:"
   ]
  },
  {
   "cell_type": "code",
   "execution_count": 4,
   "metadata": {},
   "outputs": [],
   "source": [
    "with tp.PandasHDFStore('data.h5') as s:  # This opens an HDF5 file. Data will be stored and retrieved by frame number.\n",
    "    for image in images:\n",
    "        features = tp.locate(image, 11, invert=True)  # Find the features in a given frame.\n",
    "        s.put(features)  # Save the features to the file before continuing to the next frame."
   ]
  },
  {
   "cell_type": "markdown",
   "metadata": {},
   "source": [
    "or, equivalently, we can use `batch`, which accepts the storage file as `output`."
   ]
  },
  {
   "cell_type": "code",
   "execution_count": 5,
   "metadata": {},
   "outputs": [
    {
     "name": "stdout",
     "output_type": "stream",
     "text": [
      "Frame 9: 0 features\n"
     ]
    }
   ],
   "source": [
    "with tp.PandasHDFStore('data.h5') as s:\n",
    "    tp.batch(images, 11, invert=True, output=s)"
   ]
  },
  {
   "cell_type": "markdown",
   "metadata": {},
   "source": [
    "We can get the data for a given frame:"
   ]
  },
  {
   "cell_type": "code",
   "execution_count": 6,
   "metadata": {},
   "outputs": [
    {
     "data": {
      "text/html": [
       "<div>\n",
       "<style>\n",
       "    .dataframe thead tr:only-child th {\n",
       "        text-align: right;\n",
       "    }\n",
       "\n",
       "    .dataframe thead th {\n",
       "        text-align: left;\n",
       "    }\n",
       "\n",
       "    .dataframe tbody tr th {\n",
       "        vertical-align: top;\n",
       "    }\n",
       "</style>\n",
       "<table border=\"1\" class=\"dataframe\">\n",
       "  <thead>\n",
       "    <tr style=\"text-align: right;\">\n",
       "      <th></th>\n",
       "      <th>x</th>\n",
       "      <th>y</th>\n",
       "      <th>mass</th>\n",
       "      <th>size</th>\n",
       "      <th>ecc</th>\n",
       "      <th>signal</th>\n",
       "      <th>raw_mass</th>\n",
       "      <th>ep</th>\n",
       "      <th>frame</th>\n",
       "    </tr>\n",
       "  </thead>\n",
       "  <tbody>\n",
       "    <tr>\n",
       "      <th>0</th>\n",
       "      <td>296.181623</td>\n",
       "      <td>5.629994</td>\n",
       "      <td>1.317008</td>\n",
       "      <td>2.502795</td>\n",
       "      <td>0.232035</td>\n",
       "      <td>0.065567</td>\n",
       "      <td>35.125488</td>\n",
       "      <td>0.104669</td>\n",
       "      <td>2</td>\n",
       "    </tr>\n",
       "    <tr>\n",
       "      <th>1</th>\n",
       "      <td>68.334140</td>\n",
       "      <td>6.232143</td>\n",
       "      <td>1.337245</td>\n",
       "      <td>2.706093</td>\n",
       "      <td>0.089628</td>\n",
       "      <td>0.048568</td>\n",
       "      <td>36.349017</td>\n",
       "      <td>0.069776</td>\n",
       "      <td>2</td>\n",
       "    </tr>\n",
       "    <tr>\n",
       "      <th>2</th>\n",
       "      <td>336.808777</td>\n",
       "      <td>6.440439</td>\n",
       "      <td>1.032884</td>\n",
       "      <td>2.256825</td>\n",
       "      <td>0.052063</td>\n",
       "      <td>0.061520</td>\n",
       "      <td>34.568625</td>\n",
       "      <td>0.135511</td>\n",
       "      <td>2</td>\n",
       "    </tr>\n",
       "    <tr>\n",
       "      <th>3</th>\n",
       "      <td>431.767517</td>\n",
       "      <td>6.907273</td>\n",
       "      <td>2.125669</td>\n",
       "      <td>2.995045</td>\n",
       "      <td>0.412907</td>\n",
       "      <td>0.064353</td>\n",
       "      <td>36.043135</td>\n",
       "      <td>0.076120</td>\n",
       "      <td>2</td>\n",
       "    </tr>\n",
       "    <tr>\n",
       "      <th>4</th>\n",
       "      <td>460.814096</td>\n",
       "      <td>7.609493</td>\n",
       "      <td>1.125569</td>\n",
       "      <td>2.713518</td>\n",
       "      <td>0.097293</td>\n",
       "      <td>0.043307</td>\n",
       "      <td>34.960782</td>\n",
       "      <td>0.112224</td>\n",
       "      <td>2</td>\n",
       "    </tr>\n",
       "  </tbody>\n",
       "</table>\n",
       "</div>"
      ],
      "text/plain": [
       "            x         y      mass      size       ecc    signal   raw_mass  \\\n",
       "0  296.181623  5.629994  1.317008  2.502795  0.232035  0.065567  35.125488   \n",
       "1   68.334140  6.232143  1.337245  2.706093  0.089628  0.048568  36.349017   \n",
       "2  336.808777  6.440439  1.032884  2.256825  0.052063  0.061520  34.568625   \n",
       "3  431.767517  6.907273  2.125669  2.995045  0.412907  0.064353  36.043135   \n",
       "4  460.814096  7.609493  1.125569  2.713518  0.097293  0.043307  34.960782   \n",
       "\n",
       "         ep  frame  \n",
       "0  0.104669      2  \n",
       "1  0.069776      2  \n",
       "2  0.135511      2  \n",
       "3  0.076120      2  \n",
       "4  0.112224      2  "
      ]
     },
     "execution_count": 6,
     "metadata": {},
     "output_type": "execute_result"
    }
   ],
   "source": [
    "with tp.PandasHDFStore('data.h5') as s:\n",
    "    frame_2_results = s.get(2)\n",
    "    \n",
    "frame_2_results.head()  # Display the first few rows."
   ]
  },
  {
   "cell_type": "markdown",
   "metadata": {},
   "source": [
    "Or dump all the data, if your machine has enough memory to hold it:"
   ]
  },
  {
   "cell_type": "code",
   "execution_count": 7,
   "metadata": {},
   "outputs": [
    {
     "data": {
      "text/html": [
       "<div>\n",
       "<style>\n",
       "    .dataframe thead tr:only-child th {\n",
       "        text-align: right;\n",
       "    }\n",
       "\n",
       "    .dataframe thead th {\n",
       "        text-align: left;\n",
       "    }\n",
       "\n",
       "    .dataframe tbody tr th {\n",
       "        vertical-align: top;\n",
       "    }\n",
       "</style>\n",
       "<table border=\"1\" class=\"dataframe\">\n",
       "  <thead>\n",
       "    <tr style=\"text-align: right;\">\n",
       "      <th></th>\n",
       "      <th>x</th>\n",
       "      <th>y</th>\n",
       "      <th>mass</th>\n",
       "      <th>size</th>\n",
       "      <th>ecc</th>\n",
       "      <th>signal</th>\n",
       "      <th>raw_mass</th>\n",
       "      <th>ep</th>\n",
       "      <th>frame</th>\n",
       "    </tr>\n",
       "  </thead>\n",
       "  <tbody>\n",
       "    <tr>\n",
       "      <th>0</th>\n",
       "      <td>295.084431</td>\n",
       "      <td>5.614319</td>\n",
       "      <td>1.198659</td>\n",
       "      <td>2.443001</td>\n",
       "      <td>0.194062</td>\n",
       "      <td>0.065175</td>\n",
       "      <td>35.070586</td>\n",
       "      <td>0.109599</td>\n",
       "      <td>0</td>\n",
       "    </tr>\n",
       "    <tr>\n",
       "      <th>1</th>\n",
       "      <td>431.473526</td>\n",
       "      <td>7.265490</td>\n",
       "      <td>2.156048</td>\n",
       "      <td>2.781234</td>\n",
       "      <td>0.290554</td>\n",
       "      <td>0.071248</td>\n",
       "      <td>36.074508</td>\n",
       "      <td>0.076321</td>\n",
       "      <td>0</td>\n",
       "    </tr>\n",
       "    <tr>\n",
       "      <th>2</th>\n",
       "      <td>67.704366</td>\n",
       "      <td>7.671550</td>\n",
       "      <td>1.381636</td>\n",
       "      <td>2.722437</td>\n",
       "      <td>0.110971</td>\n",
       "      <td>0.050197</td>\n",
       "      <td>36.549017</td>\n",
       "      <td>0.066742</td>\n",
       "      <td>0</td>\n",
       "    </tr>\n",
       "    <tr>\n",
       "      <th>3</th>\n",
       "      <td>629.144305</td>\n",
       "      <td>8.152268</td>\n",
       "      <td>1.677556</td>\n",
       "      <td>3.269174</td>\n",
       "      <td>0.204030</td>\n",
       "      <td>0.032385</td>\n",
       "      <td>36.827449</td>\n",
       "      <td>0.062164</td>\n",
       "      <td>0</td>\n",
       "    </tr>\n",
       "    <tr>\n",
       "      <th>4</th>\n",
       "      <td>36.059651</td>\n",
       "      <td>8.183902</td>\n",
       "      <td>1.554087</td>\n",
       "      <td>2.833534</td>\n",
       "      <td>0.128563</td>\n",
       "      <td>0.048173</td>\n",
       "      <td>37.376468</td>\n",
       "      <td>0.054758</td>\n",
       "      <td>0</td>\n",
       "    </tr>\n",
       "  </tbody>\n",
       "</table>\n",
       "</div>"
      ],
      "text/plain": [
       "            x         y      mass      size       ecc    signal   raw_mass  \\\n",
       "0  295.084431  5.614319  1.198659  2.443001  0.194062  0.065175  35.070586   \n",
       "1  431.473526  7.265490  2.156048  2.781234  0.290554  0.071248  36.074508   \n",
       "2   67.704366  7.671550  1.381636  2.722437  0.110971  0.050197  36.549017   \n",
       "3  629.144305  8.152268  1.677556  3.269174  0.204030  0.032385  36.827449   \n",
       "4   36.059651  8.183902  1.554087  2.833534  0.128563  0.048173  37.376468   \n",
       "\n",
       "         ep  frame  \n",
       "0  0.109599      0  \n",
       "1  0.076321      0  \n",
       "2  0.066742      0  \n",
       "3  0.062164      0  \n",
       "4  0.054758      0  "
      ]
     },
     "execution_count": 7,
     "metadata": {},
     "output_type": "execute_result"
    }
   ],
   "source": [
    "with tp.PandasHDFStore('data.h5') as s:\n",
    "    all_results = s.dump()\n",
    "    \n",
    "all_results.head()  # Display the first few rows."
   ]
  },
  {
   "cell_type": "markdown",
   "metadata": {},
   "source": [
    "You can dump the first N frames using `s.dump(N)`.\n",
    "\n",
    "## Link Trajectories, Streaming From and Updating the HDF5 File"
   ]
  },
  {
   "cell_type": "code",
   "execution_count": 8,
   "metadata": {},
   "outputs": [
    {
     "name": "stdout",
     "output_type": "stream",
     "text": [
      "Frame 9: 318 trajectories present\n"
     ]
    }
   ],
   "source": [
    "with tp.PandasHDFStore('data.h5') as s:\n",
    "    for linked in tp.link_df_iter(s, 3, neighbor_strategy='KDTree'):\n",
    "        s.put(linked)"
   ]
  },
  {
   "cell_type": "markdown",
   "metadata": {},
   "source": [
    "The original data is overwritten."
   ]
  },
  {
   "cell_type": "code",
   "execution_count": 9,
   "metadata": {},
   "outputs": [
    {
     "data": {
      "text/html": [
       "<div>\n",
       "<style>\n",
       "    .dataframe thead tr:only-child th {\n",
       "        text-align: right;\n",
       "    }\n",
       "\n",
       "    .dataframe thead th {\n",
       "        text-align: left;\n",
       "    }\n",
       "\n",
       "    .dataframe tbody tr th {\n",
       "        vertical-align: top;\n",
       "    }\n",
       "</style>\n",
       "<table border=\"1\" class=\"dataframe\">\n",
       "  <thead>\n",
       "    <tr style=\"text-align: right;\">\n",
       "      <th></th>\n",
       "      <th>x</th>\n",
       "      <th>y</th>\n",
       "      <th>mass</th>\n",
       "      <th>size</th>\n",
       "      <th>ecc</th>\n",
       "      <th>signal</th>\n",
       "      <th>raw_mass</th>\n",
       "      <th>ep</th>\n",
       "      <th>frame</th>\n",
       "      <th>particle</th>\n",
       "    </tr>\n",
       "  </thead>\n",
       "  <tbody>\n",
       "    <tr>\n",
       "      <th>0</th>\n",
       "      <td>296.181623</td>\n",
       "      <td>5.629994</td>\n",
       "      <td>1.317008</td>\n",
       "      <td>2.502795</td>\n",
       "      <td>0.232035</td>\n",
       "      <td>0.065567</td>\n",
       "      <td>35.125488</td>\n",
       "      <td>0.104669</td>\n",
       "      <td>2</td>\n",
       "      <td>0.0</td>\n",
       "    </tr>\n",
       "    <tr>\n",
       "      <th>1</th>\n",
       "      <td>431.767517</td>\n",
       "      <td>6.907273</td>\n",
       "      <td>2.125669</td>\n",
       "      <td>2.995045</td>\n",
       "      <td>0.412907</td>\n",
       "      <td>0.064353</td>\n",
       "      <td>36.043135</td>\n",
       "      <td>0.076120</td>\n",
       "      <td>2</td>\n",
       "      <td>1.0</td>\n",
       "    </tr>\n",
       "    <tr>\n",
       "      <th>2</th>\n",
       "      <td>68.334140</td>\n",
       "      <td>6.232143</td>\n",
       "      <td>1.337245</td>\n",
       "      <td>2.706093</td>\n",
       "      <td>0.089628</td>\n",
       "      <td>0.048568</td>\n",
       "      <td>36.349017</td>\n",
       "      <td>0.069776</td>\n",
       "      <td>2</td>\n",
       "      <td>2.0</td>\n",
       "    </tr>\n",
       "    <tr>\n",
       "      <th>3</th>\n",
       "      <td>629.032908</td>\n",
       "      <td>8.015472</td>\n",
       "      <td>1.648082</td>\n",
       "      <td>3.260204</td>\n",
       "      <td>0.210865</td>\n",
       "      <td>0.032379</td>\n",
       "      <td>36.760782</td>\n",
       "      <td>0.062738</td>\n",
       "      <td>2</td>\n",
       "      <td>3.0</td>\n",
       "    </tr>\n",
       "    <tr>\n",
       "      <th>4</th>\n",
       "      <td>36.097756</td>\n",
       "      <td>8.154647</td>\n",
       "      <td>1.515328</td>\n",
       "      <td>2.819110</td>\n",
       "      <td>0.136879</td>\n",
       "      <td>0.047354</td>\n",
       "      <td>37.372547</td>\n",
       "      <td>0.054561</td>\n",
       "      <td>2</td>\n",
       "      <td>4.0</td>\n",
       "    </tr>\n",
       "  </tbody>\n",
       "</table>\n",
       "</div>"
      ],
      "text/plain": [
       "            x         y      mass      size       ecc    signal   raw_mass  \\\n",
       "0  296.181623  5.629994  1.317008  2.502795  0.232035  0.065567  35.125488   \n",
       "1  431.767517  6.907273  2.125669  2.995045  0.412907  0.064353  36.043135   \n",
       "2   68.334140  6.232143  1.337245  2.706093  0.089628  0.048568  36.349017   \n",
       "3  629.032908  8.015472  1.648082  3.260204  0.210865  0.032379  36.760782   \n",
       "4   36.097756  8.154647  1.515328  2.819110  0.136879  0.047354  37.372547   \n",
       "\n",
       "         ep  frame  particle  \n",
       "0  0.104669      2       0.0  \n",
       "1  0.076120      2       1.0  \n",
       "2  0.069776      2       2.0  \n",
       "3  0.062738      2       3.0  \n",
       "4  0.054561      2       4.0  "
      ]
     },
     "execution_count": 9,
     "metadata": {},
     "output_type": "execute_result"
    }
   ],
   "source": [
    "with tp.PandasHDFStore('data.h5') as s:\n",
    "    frame_2_results = s.get(2)\n",
    "    \n",
    "frame_2_results.head()  # Display the first few rows."
   ]
  },
  {
   "cell_type": "markdown",
   "metadata": {},
   "source": [
    "## Framewise Data Interfaces\n",
    "\n",
    "### Built-in interfaces\n",
    "\n",
    "There are three different interfaces. You can use them interchangeably. They offer different performance advantages.\n",
    "\n",
    "* [`PandasHDFStore`](https://github.com/soft-matter/trackpy/blob/c309b83296c720b8b9fd9633259c2b9ea6740eeb/trackpy/framewise_data.py#L103-L161) -- fastest for a small (~100) number of frames\n",
    "* [`PandasHDFStoreBig`](https://github.com/soft-matter/trackpy/blob/c309b83296c720b8b9fd9633259c2b9ea6740eeb/trackpy/framewise_data.py#L164-L227) -- fastest for a medium or large number of frames\n",
    "* [`PandasHDFStoreSingleNode`](https://github.com/soft-matter/trackpy/blob/c309b83296c720b8b9fd9633259c2b9ea6740eeb/trackpy/framewise_data.py#L230-L320) -- optimizes HDF queries that access multiple frames (advanced)\n",
    "\n",
    "### Writing your own interface\n",
    "\n",
    "Trackpy implements a generic interface that could be used to store and retrieve particle tracking data in any file format. We hope that it can make it easier for researchers who use different file formats to exchange data. Any in-house format could be accessed using the same simple interface demonstrated above.\n",
    "\n",
    "At present, the interface is implemented only for HDF5 files. To extend it to any format, write a class subclassing [`trackpy.FramewiseData`](https://github.com/soft-matter/trackpy/blob/c309b83296c720b8b9fd9633259c2b9ea6740eeb/trackpy/framewise_data.py#L14-L86). This custom class must implement the methods `put`, `get`, `close`, and `__iter__` and the properties `max_frame` and `t_column`. Refer to the built-in classes in [framewise_data.py](https://github.com/soft-matter/trackpy/blob/master/trackpy/framewise_data.py) for examples to work from."
   ]
  }
 ],
 "metadata": {
  "kernelspec": {
   "display_name": "Python 3",
   "language": "python",
   "name": "python3"
  },
  "language_info": {
   "codemirror_mode": {
    "name": "ipython",
    "version": 3
   },
   "file_extension": ".py",
   "mimetype": "text/x-python",
   "name": "python",
   "nbconvert_exporter": "python",
   "pygments_lexer": "ipython3",
   "version": "3.6.3"
  }
 },
 "nbformat": 4,
 "nbformat_minor": 1
}
